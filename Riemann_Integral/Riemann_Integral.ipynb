{
 "cells": [
  {
   "cell_type": "markdown",
   "metadata": {},
   "source": [
    "# Riemann's Integral\n",
    "\n",
    "The simplest method for approximating integrals is by summing the areas of rectangles that are defined for each subinterval. The width of the rectangle is $x_{i+1} - x_i = h$, and the height is defined by a function value $f(x)$ for some $x$ in the subinterval.\n",
    "\n",
    "<div style=\"width:100vw; display:flex; justify-content:center; margin-top:25px; margin-bottom:25px;\">\n",
    "<img src=\"./riemann.png\" />\n",
    "</div>\n",
    "\n",
    "For a left Riemann sum, we approximate the integral of a function $f(x)$ over an interval $[a, b]$ by dividing the interval into $n$ equal subintervals of width $w = \\frac{b-a}{n-1}$, and summing up the areas of the rectangles using the left endpoints\n",
    "\n",
    "For a right Riemann sum, we approximate the integral of a function $f(x)$ over an interval $[a, b]$ by dividing the interval into $n$ equal subintervals of width $w= \\frac{b-a}{n-1}$, and summing up the areas of the rectangles using the right endpoints\n",
    "\n",
    "For a middle Riemann sum, we approximate the integral of a function $f(x)$ over an interval $[a, b]$ by dividing the interval into $n$ equal subintervals of width $w = \\frac{b-a}{n-1}$, and summing up the areas of the rectangles using the midpoints\n",
    "\n",
    "<div style=\"width:100vw; display:flex; justify-content:center; margin-top:25px; margin-bottom:25px;\">\n",
    "<img src=\"./trapezium.svg\" style=\"50%\" />\n",
    "</div>\n",
    "\n",
    "The Trapezoid Rule fits a trapezoid into each subinterval and sums the areas of the trapezoid to approximate the total integral.\n",
    "\n",
    "\n",
    "\n",
    "\n",
    "\n",
    "\n",
    "\n"
   ]
  },
  {
   "cell_type": "code",
   "execution_count": 1,
   "metadata": {},
   "outputs": [],
   "source": [
    "# Import library\n",
    "\n",
    "import numpy as np"
   ]
  },
  {
   "cell_type": "code",
   "execution_count": 2,
   "metadata": {},
   "outputs": [],
   "source": [
    "# Define function\n",
    "\n",
    "# x^2 + 5x +2\n",
    "\n",
    "def f(x):\n",
    "    return x**2 + 5*x + 2"
   ]
  },
  {
   "cell_type": "code",
   "execution_count": 11,
   "metadata": {},
   "outputs": [
    {
     "name": "stdout",
     "output_type": "stream",
     "text": [
      "[1.         1.00080016 1.00160032 ... 4.99839968 4.99919984 5.        ]\n"
     ]
    }
   ],
   "source": [
    "# Define variable\n",
    "\n",
    "a = 1 # Lower Bound\n",
    "b = 5 # Upper Bound\n",
    "n = 5000 # Space\n",
    "\n",
    "# Lebar = (b-a) / (n-1)\n",
    "\n",
    "lebar = (b-a) / (n-1)\n",
    "\n",
    "# Make an array with same space\n",
    "\n",
    "x = np.linspace(a, b, n)\n",
    "\n",
    "print(x)\n",
    "\n",
    "y = f(x)\n",
    "\n",
    "print (y)"
   ]
  },
  {
   "cell_type": "code",
   "execution_count": 4,
   "metadata": {},
   "outputs": [
    {
     "name": "stdout",
     "output_type": "stream",
     "text": [
      "109.31573023946639\n"
     ]
    }
   ],
   "source": [
    "# Left Riemann\n",
    "\n",
    "# [:n-1] --> Start from index 0 (inclusive) to (n-1) (exclusive)\n",
    "\n",
    "leftRiemann = lebar * sum (y[:n-1])\n",
    "\n",
    "print(leftRiemann)"
   ]
  },
  {
   "cell_type": "code",
   "execution_count": 5,
   "metadata": {},
   "outputs": [
    {
     "name": "stdout",
     "output_type": "stream",
     "text": [
      "109.35093728087466\n"
     ]
    }
   ],
   "source": [
    "# Right Riemann\n",
    "\n",
    "# [1:] --> Start from index 1 (inclusive) to the end of the array\n",
    "\n",
    "rightRiemann = lebar * sum (y[1:n])\n",
    "\n",
    "print (rightRiemann)"
   ]
  },
  {
   "cell_type": "code",
   "execution_count": 6,
   "metadata": {},
   "outputs": [
    {
     "name": "stdout",
     "output_type": "stream",
     "text": [
      "[1.         1.00080016 1.00160032 ... 4.99759952 4.99839968 4.99919984]\n",
      "[1.00080016 1.00160032 1.00240048 ... 4.99839968 4.99919984 5.        ]\n",
      "[1.00040008 1.00120024 1.0020004  ... 4.9979996  4.99879976 4.99959992]\n",
      "[ 8.00280072  8.00840312  8.0140068  ... 51.969998   51.98199784\n",
      " 51.99399896]\n",
      "109.33333311991468\n"
     ]
    }
   ],
   "source": [
    "# Middle Riemann\n",
    "\n",
    "print (x[:n-1])\n",
    "print (x[1:])\n",
    "\n",
    "x_mid = (x[:n-1] + x[1:]) / 2\n",
    "\n",
    "print (x_mid)\n",
    "\n",
    "y_mid = f(x_mid)\n",
    "\n",
    "print (y_mid)\n",
    "\n",
    "middleRiemann = lebar * sum (y_mid)\n",
    "\n",
    "print (middleRiemann)"
   ]
  },
  {
   "cell_type": "code",
   "execution_count": 7,
   "metadata": {},
   "outputs": [
    {
     "name": "stdout",
     "output_type": "stream",
     "text": [
      "109.33333376017053\n"
     ]
    }
   ],
   "source": [
    "# Trapezium Riemann\n",
    "\n",
    "# Area of a Trapezium --> (a+b) * t / 2\n",
    "\n",
    "trapezium = lebar / 2 * (y[0] + 2 * sum(y[1:n-1]) + y[n-1])\n",
    "\n",
    "print (trapezium)"
   ]
  },
  {
   "cell_type": "code",
   "execution_count": 8,
   "metadata": {},
   "outputs": [
    {
     "name": "stdout",
     "output_type": "stream",
     "text": [
      "Left: 109.31573023946639\n",
      "Right: 109.35093728087466\n",
      "Middle: 109.33333311991468\n",
      "Trapezium: 109.33333376017053\n"
     ]
    }
   ],
   "source": [
    "print (f\"Left: {leftRiemann}\")\n",
    "print (f\"Right: {rightRiemann}\")\n",
    "print (f\"Middle: {middleRiemann}\")\n",
    "print (f\"Trapezium: {trapezium}\")"
   ]
  }
 ],
 "metadata": {
  "kernelspec": {
   "display_name": "Python 3",
   "language": "python",
   "name": "python3"
  },
  "language_info": {
   "codemirror_mode": {
    "name": "ipython",
    "version": 3
   },
   "file_extension": ".py",
   "mimetype": "text/x-python",
   "name": "python",
   "nbconvert_exporter": "python",
   "pygments_lexer": "ipython3",
   "version": "3.10.6"
  }
 },
 "nbformat": 4,
 "nbformat_minor": 2
}
