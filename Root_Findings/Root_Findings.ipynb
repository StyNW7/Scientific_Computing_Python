{
 "cells": [
  {
   "cell_type": "code",
   "execution_count": 29,
   "metadata": {},
   "outputs": [],
   "source": [
    "import numpy as np"
   ]
  },
  {
   "cell_type": "markdown",
   "metadata": {},
   "source": [
    "# BISECTION"
   ]
  },
  {
   "cell_type": "code",
   "execution_count": 30,
   "metadata": {},
   "outputs": [],
   "source": [
    "# Bisection\n",
    "# Root Finding\n",
    "\n",
    "# Root is where the y value is 0\n",
    "\n",
    "# If there is 2 value a and b, if the value of f(a) is positive and f(b) is negative or vice verse, there is should be one root between that value"
   ]
  },
  {
   "cell_type": "code",
   "execution_count": 31,
   "metadata": {},
   "outputs": [],
   "source": [
    "# define a function\n",
    "# y = f (x)\n",
    "# x^2 - 5\n",
    "\n",
    "def f(x):\n",
    "    return x**2 - 5\n",
    "\n",
    "# np.sign -> change the value to -1, 0, or 1\n",
    "\n",
    "def bisection (f, a, b, e):\n",
    "\n",
    "    if np.sign(f(a)) == np.sign (f(b)):\n",
    "        print (\"Coordinate Invalid\")\n",
    "        return\n",
    "\n",
    "    # find the middle value\n",
    "\n",
    "    c = (a+b)/2\n",
    "\n",
    "    # Recursive to find the root\n",
    "    \n",
    "    if np.abs(f(c)) < e:\n",
    "        return c\n",
    "    \n",
    "    elif np.sign (f(a)) == np.sign(f(c)):\n",
    "        return bisection (f, c, b, e)\n",
    "    \n",
    "    elif np.sign (f(b)) == np.sign (f(c)):\n",
    "        return bisection (f, a, c, e)"
   ]
  },
  {
   "cell_type": "code",
   "execution_count": 32,
   "metadata": {},
   "outputs": [
    {
     "name": "stdout",
     "output_type": "stream",
     "text": [
      "2.2360679768025875\n"
     ]
    }
   ],
   "source": [
    "print (bisection (f, 2, 5, 0.00000001))"
   ]
  },
  {
   "cell_type": "markdown",
   "metadata": {},
   "source": [
    "# NEWTON RAPHSON"
   ]
  },
  {
   "cell_type": "code",
   "execution_count": 33,
   "metadata": {},
   "outputs": [],
   "source": [
    "# Newton Raphson\n",
    "\n",
    "# Root Finding\n",
    "\n",
    "# Main formula --> x1 = x0 - (f(x)/g(x))\n",
    "\n",
    "# g(x) = f'(x) --> First derivative of f(x)\n",
    "\n",
    "# f(x) = x^2 - 5\n",
    "# g(x) = 2x"
   ]
  },
  {
   "cell_type": "code",
   "execution_count": 34,
   "metadata": {},
   "outputs": [],
   "source": [
    "# define function\n",
    "\n",
    "def f(x):\n",
    "    return x**2 - 5\n",
    "\n",
    "def g(x):\n",
    "    return 2*x\n",
    "\n",
    "# f --> f(x), g --> g(x)\n",
    "# x0 --> Initial guess\n",
    "# e -> error\n",
    "# max_iter --> Maximum iteration\n",
    "\n",
    "def netwon_raphson (f, g, x0, e = 0.01, max_iter = 15):\n",
    "    for i in range (1, max_iter):\n",
    "        x1 = x0 - (f(x0) / g (x0))\n",
    "        print (f\"Iteration {i}, ROE = {x1}, f(root) = {f(x1)}\")\n",
    "    \n",
    "        if np.abs (f(x1) < e):\n",
    "            return x1\n",
    "        \n",
    "        x0 = x1\n",
    "\n",
    "    return None"
   ]
  },
  {
   "cell_type": "code",
   "execution_count": 35,
   "metadata": {},
   "outputs": [
    {
     "name": "stdout",
     "output_type": "stream",
     "text": [
      "Iteration 1, ROE = 3.0, f(root) = 4.0\n",
      "Iteration 2, ROE = 2.3333333333333335, f(root) = 0.44444444444444553\n",
      "Iteration 3, ROE = 2.238095238095238, f(root) = 0.009070294784581101\n",
      "2.238095238095238\n"
     ]
    }
   ],
   "source": [
    "print (netwon_raphson(f, g, 1))"
   ]
  }
 ],
 "metadata": {
  "kernelspec": {
   "display_name": "Python 3",
   "language": "python",
   "name": "python3"
  },
  "language_info": {
   "codemirror_mode": {
    "name": "ipython",
    "version": 3
   },
   "file_extension": ".py",
   "mimetype": "text/x-python",
   "name": "python",
   "nbconvert_exporter": "python",
   "pygments_lexer": "ipython3",
   "version": "3.10.6"
  }
 },
 "nbformat": 4,
 "nbformat_minor": 2
}
