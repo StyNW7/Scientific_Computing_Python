{
 "cells": [
  {
   "cell_type": "markdown",
   "metadata": {},
   "source": [
    "# Scientific Computing - Qualification"
   ]
  },
  {
   "cell_type": "markdown",
   "metadata": {},
   "source": [
    "#### Name: Stanley Nathanael Wijaya\n",
    "#### Assistant Code: LC128\n",
    "#### NIM: 27022171<b>25</b>\n",
    "#### Region: Alam Sutera"
   ]
  },
  {
   "cell_type": "markdown",
   "metadata": {},
   "source": [
    "## Gauss-Seidel Linear Equation"
   ]
  },
  {
   "cell_type": "markdown",
   "metadata": {},
   "source": [
    "### Library and Data"
   ]
  },
  {
   "cell_type": "code",
   "execution_count": 1,
   "metadata": {},
   "outputs": [],
   "source": [
    "import numpy as np"
   ]
  },
  {
   "cell_type": "code",
   "execution_count": 2,
   "metadata": {},
   "outputs": [],
   "source": [
    "Xs = [\n",
    "    [\n",
    "      [4, 2, -1],\n",
    "      [1, -5, 2],\n",
    "      [2, -1, -4]\n",
    "    ],\n",
    "    [\n",
    "      [3, 4, 5],\n",
    "      [-3, 7, -4],\n",
    "      [1, -4, -2]\n",
    "    ],\n",
    "    [\n",
    "      [9, -2, 3, 2],\n",
    "      [2, 8, -2, 3],\n",
    "      [-3, 2, 11, -4],\n",
    "      [-2, 3, 2, 10]\n",
    "    ]\n",
    "]\n",
    "Ys = [\n",
    "    [41, -10, 1],\n",
    "    [34, -32, 62],\n",
    "    [55, -14, 12, -21]\n",
    "]"
   ]
  },
  {
   "cell_type": "markdown",
   "metadata": {},
   "source": [
    "### Diagonally Dominant Function"
   ]
  },
  {
   "cell_type": "code",
   "execution_count": 3,
   "metadata": {},
   "outputs": [],
   "source": [
    "def diagonally_dominant(x):\n",
    "    x = np.array(x)\n",
    "\n",
    "    diag = np.diag(np.abs(x))\n",
    "\n",
    "    sum = np.sum(x, axis=1) - diag\n",
    "\n",
    "    if np.all(sum <= diag):\n",
    "        return True\n",
    "    else:\n",
    "        return False"
   ]
  },
  {
   "cell_type": "code",
   "execution_count": 4,
   "metadata": {},
   "outputs": [
    {
     "name": "stdout",
     "output_type": "stream",
     "text": [
      "True\n",
      "False\n",
      "True\n"
     ]
    }
   ],
   "source": [
    "for i in range (len(Xs)):\n",
    "    print (diagonally_dominant(Xs[i]))"
   ]
  },
  {
   "cell_type": "markdown",
   "metadata": {},
   "source": [
    "### Gauss Seidel Function"
   ]
  },
  {
   "cell_type": "code",
   "execution_count": 5,
   "metadata": {},
   "outputs": [],
   "source": [
    "def gauss_seidel(x, y, e = 0.025, max_iter=15):\n",
    "    x = np.array (x)\n",
    "    y = np.array(y)\n",
    "\n",
    "    diag = np.diag(x)\n",
    "\n",
    "    x = -x\n",
    "\n",
    "    np.fill_diagonal(x, 0)\n",
    "\n",
    "    temp = np.zeros(len(x))\n",
    "\n",
    "    for i in range (max_iter):\n",
    "        x_new = np.array(temp)\n",
    "\n",
    "        for j, row in enumerate(x):\n",
    "            x_new[j] = (y[j] + np.dot(row, x_new))/diag[j]\n",
    "\n",
    "        print (f'Iteration {i+1} = {x_new}')\n",
    "\n",
    "        distance = np.sqrt(np.dot(x_new-temp, x_new-temp))\n",
    "\n",
    "        if distance < e:\n",
    "            return True\n",
    "        else:\n",
    "            temp = x_new\n",
    "    return False"
   ]
  },
  {
   "cell_type": "code",
   "execution_count": 6,
   "metadata": {},
   "outputs": [
    {
     "name": "stdout",
     "output_type": "stream",
     "text": [
      "Equation 1\n",
      "A = [[4, 2, -1], [1, -5, 2], [2, -1, -4]] and y = [41, -10, 1]\n",
      "Iteration 1 = [10.25    4.05    3.8625]\n",
      "Iteration 2 = [9.190625   5.383125   2.99953125]\n",
      "Iteration 3 = [8.30832031 4.86147656 2.68879102]\n",
      "Iteration 4 = [8.49145947 4.7738083  2.80227766]\n",
      "Iteration 5 = [8.56366526 4.83364412 2.8234216 ]\n",
      "Iteration 6 = [8.53903334 4.83717531 2.81022284]\n",
      "Iteration 7 = [8.53396806 4.83088275 2.80926334]\n",
      "Diagoanlly Dominant & Convergent\n",
      "\n",
      "Equation 2\n",
      "A = [[3, 4, 5], [-3, 7, -4], [1, -4, -2]] and y = [34, -32, 62]\n",
      "Not diagonally dominant & Not convergent!\n",
      "\n",
      "Equation 3\n",
      "A = [[9, -2, 3, 2], [2, 8, -2, 3], [-3, 2, 11, -4], [-2, 3, 2, 10]] and y = [55, -14, 12, -21]\n",
      "Iteration 1 = [ 6.11111111 -3.27777778  3.35353535 -0.56515152]\n",
      "Iteration 2 = [ 4.39046016 -1.79729938  2.40957938 -1.16463403]\n",
      "Iteration 3 = [ 5.16732568 -2.00269881  2.44080351 -0.95388592]\n",
      "Iteration 4 = [ 5.06444041 -2.04820201  2.49765287 -0.97218189]\n",
      "Iteration 5 = [ 5.03944457 -2.02087972  2.47921505 -0.98169018]\n",
      "Iteration 6 = [ 5.05377509 -2.02550619  2.48050699 -0.97769452]\n",
      "Diagoanlly Dominant & Convergent\n",
      "\n"
     ]
    }
   ],
   "source": [
    "for i, (x, y) in enumerate(zip(Xs, Ys)):\n",
    "    print (f'Equation {i+1}')\n",
    "    print (f'A = {x} and y = {y}')\n",
    "\n",
    "    if diagonally_dominant(x):\n",
    "        if gauss_seidel(x, y):\n",
    "            print ('Diagoanlly Dominant & Convergent\\n')\n",
    "        else:\n",
    "            print ('Diagoanlly Dominant but Not convergent!\\n')\n",
    "\n",
    "    else:\n",
    "        print ('Not diagonally dominant & Not convergent!\\n')"
   ]
  },
  {
   "cell_type": "markdown",
   "metadata": {},
   "source": [
    "## Least Square Regression & Plotting"
   ]
  },
  {
   "cell_type": "markdown",
   "metadata": {},
   "source": [
    "### Library"
   ]
  },
  {
   "cell_type": "code",
   "execution_count": 7,
   "metadata": {},
   "outputs": [],
   "source": [
    "import numpy as np\n",
    "from matplotlib import pyplot as plt"
   ]
  },
  {
   "cell_type": "markdown",
   "metadata": {},
   "source": [
    "### Data & Matrix"
   ]
  },
  {
   "cell_type": "code",
   "execution_count": 8,
   "metadata": {},
   "outputs": [],
   "source": [
    "# Data (Random)\n",
    "\n",
    "x = np.linspace(1, 50, 50)\n",
    "y = np.array([2.3 * xi + np.random.normal(0, 3) for xi in x])\n",
    "\n",
    "# Matrix\n",
    "\n",
    "A = np.vstack([x, np.ones(len(x))]).T\n",
    "y = y[:, np.newaxis]"
   ]
  },
  {
   "cell_type": "markdown",
   "metadata": {},
   "source": [
    "### Direct Inverse Method"
   ]
  },
  {
   "cell_type": "code",
   "execution_count": 9,
   "metadata": {},
   "outputs": [
    {
     "name": "stdout",
     "output_type": "stream",
     "text": [
      "m = [2.28516889]\n",
      "b = [0.78750525]\n",
      "y = [2.28516889]x + [0.78750525]\n"
     ]
    },
    {
     "data": {
      "image/png": "[encoded data removed]",
      "text/plain": [
       "<Figure size 1000x600 with 1 Axes>"
      ]
     },
     "metadata": {},
     "output_type": "display_data"
    }
   ],
   "source": [
    "# Direct Inverse\n",
    "\n",
    "beta_direct = np.dot(np.dot(np.linalg.inv(np.dot(A.T, A)), A.T), y)\n",
    "m_direct = beta_direct[0]\n",
    "b_direct = beta_direct[1]\n",
    "\n",
    "print (f'm = {m_direct}')\n",
    "print (f'b = {b_direct}')\n",
    "print (f'y = {m_direct}x + {b_direct}')\n",
    "\n",
    "# Plot\n",
    "\n",
    "plt.figure(figsize=(10, 6))\n",
    "plt.plot(x, y, \"bo\", label=\"Data Points\")\n",
    "plt.plot(x, m_direct * x + b_direct, \"r-\", label=\"Fitted Line (Direct Inverse)\")\n",
    "plt.title(\"Least Squares Regression: Direct Inverse\")\n",
    "plt.xlabel(\"X values\")\n",
    "plt.ylabel(\"Y values\")\n",
    "plt.legend()\n",
    "plt.grid(True)\n",
    "plt.show()"
   ]
  },
  {
   "cell_type": "markdown",
   "metadata": {},
   "source": [
    "### Pseudoinverse Method"
   ]
  },
  {
   "cell_type": "code",
   "execution_count": 10,
   "metadata": {},
   "outputs": [
    {
     "name": "stdout",
     "output_type": "stream",
     "text": [
      "m = [2.28516889]\n",
      "b = [0.78750525]\n",
      "y = [2.28516889]x + [0.78750525]\n"
     ]
    },
    {
     "data": {
      "image/png": "[encoded data removed]",
      "text/plain": [
       "<Figure size 1000x600 with 1 Axes>"
      ]
     },
     "metadata": {},
     "output_type": "display_data"
    }
   ],
   "source": [
    "# Pseudoinverse\n",
    "\n",
    "pinv = np.linalg.pinv(A)\n",
    "beta_pseudo = np.dot(pinv, y)\n",
    "m_pseudo = beta_pseudo[0]\n",
    "b_pseudo = beta_pseudo[1]\n",
    "\n",
    "print (f'm = {m_pseudo}')\n",
    "print (f'b = {b_pseudo}')\n",
    "print (f'y = {m_pseudo}x + {b_pseudo}')\n",
    "\n",
    "# Plot\n",
    "\n",
    "plt.figure(figsize=(10, 6))\n",
    "plt.plot(x, y, \"bo\", label=\"Data Points\")\n",
    "plt.plot(x, m_pseudo * x + b_pseudo, \"g--\", label=\"Fitted Line (Pseudoinverse)\")\n",
    "plt.title(\"Least Squares Regression: Pseudoinverse\")\n",
    "plt.xlabel(\"X values\")\n",
    "plt.ylabel(\"Y values\")\n",
    "plt.legend()\n",
    "plt.grid(True)\n",
    "plt.show()"
   ]
  },
  {
   "cell_type": "markdown",
   "metadata": {},
   "source": [
    "## Root Findings"
   ]
  },
  {
   "cell_type": "markdown",
   "metadata": {},
   "source": [
    "### Library & Equation Formula"
   ]
  },
  {
   "cell_type": "code",
   "execution_count": 11,
   "metadata": {},
   "outputs": [],
   "source": [
    "import numpy as np\n",
    "\n",
    "def f(x):\n",
    "    return x**4 - 4*x**3 + 6*x**2 - 4*x + 1\n",
    "\n",
    "def g(x):\n",
    "    return 4*x**3 - 12*x**2 + 12*x - 4"
   ]
  },
  {
   "cell_type": "markdown",
   "metadata": {},
   "source": [
    "### Bisection Method"
   ]
  },
  {
   "cell_type": "code",
   "execution_count": 12,
   "metadata": {},
   "outputs": [
    {
     "name": "stdout",
     "output_type": "stream",
     "text": [
      "Iteration (1) --> c = 5.5, f(c) = 410.0625\n",
      "Iteration (2) --> c = 3.25, f(c) = 25.62890625\n",
      "Iteration (3) --> c = 2.125, f(c) = 1.601806640625\n",
      "Iteration (4) --> c = 1.5625, f(c) = 0.1001129150390625\n",
      "Iteration (5) --> c = 1.28125, f(c) = 0.006257057189941406\n",
      "Root found using Bisection Method: 1.28125\n"
     ]
    }
   ],
   "source": [
    "def bisection(f, a, b, tol=0.025, max_iter=15):\n",
    "    if np.sign(f(a)) == np.sign(f(b)):\n",
    "        print('Coordinate Interval Invalid')\n",
    "        return None\n",
    "    \n",
    "    iter_count = 0\n",
    "    while iter_count < max_iter:\n",
    "        c = (a + b) / 2\n",
    "        print(f'Iteration ({iter_count + 1}) --> c = {c}, f(c) = {f(c)}')\n",
    "\n",
    "        if np.abs(f(c)) < tol:\n",
    "            return c\n",
    "        elif np.sign(f(a)) == np.sign(f(c)):\n",
    "            a = c\n",
    "        else:\n",
    "            b = c\n",
    "\n",
    "        iter_count += 1\n",
    "\n",
    "    return c\n",
    "\n",
    "root_bisection = bisection(f, 1, 10)\n",
    "print(f\"Root found using Bisection Method: {root_bisection}\")"
   ]
  },
  {
   "cell_type": "markdown",
   "metadata": {},
   "source": [
    "### Newton Raphson"
   ]
  },
  {
   "cell_type": "code",
   "execution_count": 13,
   "metadata": {},
   "outputs": [
    {
     "name": "stdout",
     "output_type": "stream",
     "text": [
      "Iteration (1) --> x = 1.75, f(x) = 0.31640625\n",
      "Iteration (2) --> x = 1.5625, f(x) = 0.1001129150390625\n",
      "Iteration (3) --> x = 1.421875, f(x) = 0.03167635202407837\n",
      "Iteration (4) --> x = 1.31640625, f(x) = 0.010022595757618546\n",
      "Root found using Newton Raphson Method: 1.31640625\n"
     ]
    }
   ],
   "source": [
    "def newton_raphson(f, g, x0, tol=0.025, max_iter=15):\n",
    "    x = x0\n",
    "    for i in range(max_iter):\n",
    "        x_new = x - f(x) / g(x)\n",
    "        print(f'Iteration ({i+1}) --> x = {x_new}, f(x) = {f(x_new)}')\n",
    "        \n",
    "        if np.abs(f(x_new)) < tol:\n",
    "            return x_new\n",
    "        x = x_new\n",
    "\n",
    "    return x\n",
    "\n",
    "root_newton = newton_raphson(f, g, 2)\n",
    "print(f\"Root found using Newton Raphson Method: {root_newton}\")"
   ]
  },
  {
   "cell_type": "markdown",
   "metadata": {},
   "source": [
    "## Riemann Integral"
   ]
  },
  {
   "cell_type": "markdown",
   "metadata": {},
   "source": [
    "### Library and Polynomial Equation"
   ]
  },
  {
   "cell_type": "code",
   "execution_count": 14,
   "metadata": {},
   "outputs": [],
   "source": [
    "import numpy as np\n",
    "\n",
    "def f(x):\n",
    "    return 2*x**4 - 3*x**3 + 5*x**2 - x + 7"
   ]
  },
  {
   "cell_type": "markdown",
   "metadata": {},
   "source": [
    "### Data"
   ]
  },
  {
   "cell_type": "code",
   "execution_count": 15,
   "metadata": {},
   "outputs": [],
   "source": [
    "# Lowerbound and Upperbound (change this to see the difference especially for left and right riemann)\n",
    "\n",
    "a = -10\n",
    "b = 5\n",
    "\n",
    "# Number of grid points\n",
    "\n",
    "n = 3000\n",
    "\n",
    "# Data\n",
    "\n",
    "width = (b - a) / (n - 1)\n",
    "\n",
    "x = np.linspace(a, b, n)\n",
    "\n",
    "y = f(x)"
   ]
  },
  {
   "cell_type": "markdown",
   "metadata": {},
   "source": [
    "### Left Riemann Sum"
   ]
  },
  {
   "cell_type": "code",
   "execution_count": 16,
   "metadata": {},
   "outputs": [
    {
     "name": "stdout",
     "output_type": "stream",
     "text": [
      "Left Riemann Sum: 50355.07675115829\n"
     ]
    }
   ],
   "source": [
    "left_riemann = width * np.sum(y[:n-1])\n",
    "print(f'Left Riemann Sum: {left_riemann}')"
   ]
  },
  {
   "cell_type": "markdown",
   "metadata": {},
   "source": [
    "### Right Riemann Sum"
   ]
  },
  {
   "cell_type": "code",
   "execution_count": 17,
   "metadata": {},
   "outputs": [
    {
     "name": "stdout",
     "output_type": "stream",
     "text": [
      "Right Riemann Sum: 50242.46421364578\n"
     ]
    }
   ],
   "source": [
    "right_riemann = width * np.sum(y[1:n])\n",
    "print(f'Right Riemann Sum: {right_riemann}')"
   ]
  },
  {
   "cell_type": "markdown",
   "metadata": {},
   "source": [
    "### Midpoint Riemann Sum"
   ]
  },
  {
   "cell_type": "code",
   "execution_count": 18,
   "metadata": {},
   "outputs": [
    {
     "name": "stdout",
     "output_type": "stream",
     "text": [
      "Midpoint Riemann Sum: 50298.73975879922\n"
     ]
    }
   ],
   "source": [
    "x_mid = (x[:n-1] + x[1:n]) / 2\n",
    "y_mid = f(x_mid)\n",
    "mid_riemann = width * np.sum(y_mid)\n",
    "print(f'Midpoint Riemann Sum: {mid_riemann}')"
   ]
  },
  {
   "cell_type": "markdown",
   "metadata": {},
   "source": [
    "### Trapezoidal Rule"
   ]
  },
  {
   "cell_type": "code",
   "execution_count": 19,
   "metadata": {},
   "outputs": [
    {
     "name": "stdout",
     "output_type": "stream",
     "text": [
      "Trapezoidal Rule: 50298.770482402026\n"
     ]
    }
   ],
   "source": [
    "trapezoid = width / 2 * (y[0] + 2 * np.sum(y[1:n-1]) + y[n-1])\n",
    "print(f'Trapezoidal Rule: {trapezoid}')"
   ]
  }
 ],
 "metadata": {
  "kernelspec": {
   "display_name": "Python 3",
   "language": "python",
   "name": "python3"
  },
  "language_info": {
   "codemirror_mode": {
    "name": "ipython",
    "version": 3
   },
   "file_extension": ".py",
   "mimetype": "text/x-python",
   "name": "python",
   "nbconvert_exporter": "python",
   "pygments_lexer": "ipython3",
   "version": "3.10.6"
  }
 },
 "nbformat": 4,
 "nbformat_minor": 2
}
